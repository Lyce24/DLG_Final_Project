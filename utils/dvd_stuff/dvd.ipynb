{
 "cells": [
  {
   "cell_type": "code",
   "execution_count": 1,
   "id": "4ae5ad9f",
   "metadata": {},
   "outputs": [],
   "source": [
    "import pandas as pd\n",
    "from sklearn.model_selection import train_test_split\n",
    "import torch\n",
    "import matplotlib.pyplot as plt"
   ]
  },
  {
   "cell_type": "code",
   "execution_count": 2,
   "id": "2e22e78a",
   "metadata": {},
   "outputs": [],
   "source": [
    "df = pd.read_csv('../../data/msk_2024_fe_15.csv')"
   ]
  },
  {
   "cell_type": "code",
   "execution_count": 3,
   "id": "8172c320",
   "metadata": {},
   "outputs": [
    {
     "data": {
      "text/html": [
       "<div>\n",
       "<style scoped>\n",
       "    .dataframe tbody tr th:only-of-type {\n",
       "        vertical-align: middle;\n",
       "    }\n",
       "\n",
       "    .dataframe tbody tr th {\n",
       "        vertical-align: top;\n",
       "    }\n",
       "\n",
       "    .dataframe thead th {\n",
       "        text-align: right;\n",
       "    }\n",
       "</style>\n",
       "<table border=\"1\" class=\"dataframe\">\n",
       "  <thead>\n",
       "    <tr style=\"text-align: right;\">\n",
       "      <th></th>\n",
       "      <th>OS_MONTHS</th>\n",
       "      <th>OS_STATUS</th>\n",
       "      <th>highest_stage_recorded</th>\n",
       "    </tr>\n",
       "  </thead>\n",
       "  <tbody>\n",
       "    <tr>\n",
       "      <th>0</th>\n",
       "      <td>13.906834</td>\n",
       "      <td>1</td>\n",
       "      <td>0</td>\n",
       "    </tr>\n",
       "    <tr>\n",
       "      <th>1</th>\n",
       "      <td>115.462887</td>\n",
       "      <td>0</td>\n",
       "      <td>1</td>\n",
       "    </tr>\n",
       "    <tr>\n",
       "      <th>2</th>\n",
       "      <td>13.610944</td>\n",
       "      <td>1</td>\n",
       "      <td>0</td>\n",
       "    </tr>\n",
       "    <tr>\n",
       "      <th>3</th>\n",
       "      <td>60.756098</td>\n",
       "      <td>1</td>\n",
       "      <td>1</td>\n",
       "    </tr>\n",
       "    <tr>\n",
       "      <th>4</th>\n",
       "      <td>29.621885</td>\n",
       "      <td>1</td>\n",
       "      <td>1</td>\n",
       "    </tr>\n",
       "  </tbody>\n",
       "</table>\n",
       "</div>"
      ],
      "text/plain": [
       "    OS_MONTHS  OS_STATUS  highest_stage_recorded\n",
       "0   13.906834          1                       0\n",
       "1  115.462887          0                       1\n",
       "2   13.610944          1                       0\n",
       "3   60.756098          1                       1\n",
       "4   29.621885          1                       1"
      ]
     },
     "execution_count": 3,
     "metadata": {},
     "output_type": "execute_result"
    }
   ],
   "source": [
    "# locate the columns index for OS_MONTHS\n",
    "os_months_index = df.columns.get_loc(\"OS_MONTHS\")\n",
    "df.iloc[:, os_months_index:os_months_index + 3].head(5)"
   ]
  },
  {
   "cell_type": "code",
   "execution_count": 4,
   "id": "62977579",
   "metadata": {},
   "outputs": [
    {
     "name": "stdout",
     "output_type": "stream",
     "text": [
      "torch.Size([17827, 981]) torch.Size([17827])\n"
     ]
    }
   ],
   "source": [
    "# data preprocessing, remove patien id and OS_MONTHS\n",
    "df = df.drop(columns=['Patient'])\n",
    "X = df.drop(columns=['OS_STATUS'])\n",
    "y = df['OS_STATUS']\n",
    "X_train, X_test, y_train, y_test = train_test_split(X, y, test_size=0.2, random_state=0)\n",
    "X_train = torch.tensor(X_train.values, dtype=torch.float32)\n",
    "X_test = torch.tensor(X_test.values, dtype=torch.float32)\n",
    "y_train = torch.tensor(y_train.values, dtype=torch.float32)\n",
    "y_test = torch.tensor(y_test.values, dtype=torch.float32)\n",
    "print(X_train.shape, y_train.shape)"
   ]
  },
  {
   "cell_type": "code",
   "execution_count": 5,
   "id": "f2e0853f",
   "metadata": {},
   "outputs": [],
   "source": [
    "import torch.nn as nn\n",
    "import torch.nn.functional as F\n",
    "from lifelines.utils import concordance_index # c-index for optimization, do we need to use this?\n",
    "\n",
    "class MLP(nn.Module):\n",
    "    def __init__(self, input_dim, hidden_dim1=128, hidden_dim2=64, dropout=0.3):\n",
    "        super(MLP, self).__init__()\n",
    "        self.fc1 = nn.Linear(input_dim, hidden_dim1)\n",
    "        self.bn1 = nn.BatchNorm1d(hidden_dim1)\n",
    "        self.dropout1 = nn.Dropout(dropout)\n",
    "        \n",
    "        self.fc2 = nn.Linear(hidden_dim1, hidden_dim2)\n",
    "        self.bn2 = nn.BatchNorm1d(hidden_dim2)\n",
    "        self.dropout2 = nn.Dropout(dropout)\n",
    "\n",
    "        self.fc3 = nn.Linear(hidden_dim2, hidden_dim2)\n",
    "        self.bn3 = nn.BatchNorm1d(hidden_dim2)\n",
    "        self.dropout3 = nn.Dropout(dropout)\n",
    "        \n",
    "        self.out = nn.Linear(hidden_dim2, 1)\n",
    "\n",
    "    def forward(self, x):\n",
    "        x = self.fc1(x)\n",
    "        x = self.bn1(x)\n",
    "        x = F.relu(x)\n",
    "        x = self.dropout1(x)\n",
    "\n",
    "        x = self.fc2(x)\n",
    "        x = self.bn2(x)\n",
    "        x = F.relu(x)\n",
    "        x = self.dropout2(x)\n",
    "        \n",
    "        x = self.fc3(x)\n",
    "        x = self.bn3(x)\n",
    "        x = F.relu(x)\n",
    "        x = self.dropout3(x)\n",
    "\n",
    "        x = self.out(x)\n",
    "        return x.squeeze(-1)"
   ]
  },
  {
   "cell_type": "code",
   "execution_count": 6,
   "id": "e3d1a5db",
   "metadata": {},
   "outputs": [
    {
     "name": "stdout",
     "output_type": "stream",
     "text": [
      "Epoch [10/100], Loss: 0.3627\n",
      "Validation Loss: 0.4225\n",
      "Epoch [20/100], Loss: 0.2688\n",
      "Validation Loss: 0.3057\n",
      "Epoch [30/100], Loss: 0.2398\n",
      "Validation Loss: 0.2383\n",
      "Epoch [40/100], Loss: 0.2222\n",
      "Validation Loss: 0.1918\n",
      "Epoch [50/100], Loss: 0.2020\n",
      "Validation Loss: 0.1797\n",
      "Epoch [60/100], Loss: 0.1889\n",
      "Validation Loss: 0.1744\n",
      "Epoch [70/100], Loss: 0.1757\n",
      "Validation Loss: 0.1701\n",
      "Epoch [80/100], Loss: 0.1708\n",
      "Validation Loss: 0.1664\n",
      "Epoch [90/100], Loss: 0.1642\n",
      "Validation Loss: 0.1693\n",
      "Epoch [100/100], Loss: 0.1552\n",
      "Validation Loss: 0.1688\n"
     ]
    }
   ],
   "source": [
    "input_dim = X_train.shape[1]\n",
    "model = MLP(input_dim)\n",
    "optimizer = torch.optim.Adam(model.parameters(), lr=0.001, weight_decay=0.001)\n",
    "loss_fn = nn.MSELoss()\n",
    "\n",
    "epochs = 100\n",
    "train_loss = []\n",
    "val_loss = []\n",
    "\n",
    "for epoch in range(epochs):\n",
    "    model.train()\n",
    "    optimizer.zero_grad()\n",
    "    y_pred = model(X_train)\n",
    "    loss = loss_fn(y_pred, y_train)\n",
    "    loss.backward()\n",
    "    optimizer.step()\n",
    "\n",
    "    model.eval()\n",
    "    with torch.no_grad():\n",
    "        y_val_pred = model(X_test)\n",
    "        val_loss_value = loss_fn(y_val_pred, y_test)\n",
    "        val_loss.append(val_loss_value.item())\n",
    "        train_loss.append(loss.item())\n",
    "    \n",
    "    if (epoch + 1) % 10 == 0:\n",
    "        print(f'Epoch [{epoch + 1}/{epochs}], Loss: {loss.item():.4f}')\n",
    "        print(f'Validation Loss: {val_loss_value.item():.4f}')"
   ]
  },
  {
   "cell_type": "code",
   "execution_count": null,
   "id": "b6344364",
   "metadata": {},
   "outputs": [],
   "source": [
    "# CNN implementation"
   ]
  },
  {
   "cell_type": "code",
   "execution_count": null,
   "id": "0748734d",
   "metadata": {},
   "outputs": [],
   "source": [
    "# LSTM implementation"
   ]
  },
  {
   "cell_type": "code",
   "execution_count": null,
   "id": "e01f8b1d",
   "metadata": {},
   "outputs": [],
   "source": [
    "# ResNet implementation"
   ]
  },
  {
   "cell_type": "code",
   "execution_count": null,
   "id": "6e0656dd",
   "metadata": {},
   "outputs": [],
   "source": [
    "# Transformer implementation"
   ]
  },
  {
   "cell_type": "code",
   "execution_count": 7,
   "id": "7a7b6286",
   "metadata": {},
   "outputs": [
    {
     "data": {
      "image/png": "[encoded data removed]",
      "text/plain": [
       "<Figure size 800x600 with 1 Axes>"
      ]
     },
     "metadata": {},
     "output_type": "display_data"
    }
   ],
   "source": [
    "import os\n",
    "save_path = '../../results/dvd_basicML'\n",
    "plt.figure(figsize=(8,6))\n",
    "plt.plot(range(1, epochs+1), train_loss, label='Train Loss')\n",
    "plt.plot(range(1, epochs+1), val_loss, label='Validation Loss')\n",
    "plt.xlabel('Epoch')\n",
    "plt.ylabel('MSE Loss')\n",
    "plt.title('Training vs Validation Loss')\n",
    "plt.legend()\n",
    "plt.grid()\n",
    "plt.savefig(os.path.join(save_path, 'mlp_loss.png'))\n",
    "plt.show()"
   ]
  }
 ],
 "metadata": {
  "kernelspec": {
   "display_name": "csci2470",
   "language": "python",
   "name": "python3"
  },
  "language_info": {
   "codemirror_mode": {
    "name": "ipython",
    "version": 3
   },
   "file_extension": ".py",
   "mimetype": "text/x-python",
   "name": "python",
   "nbconvert_exporter": "python",
   "pygments_lexer": "ipython3",
   "version": "3.11.9"
  }
 },
 "nbformat": 4,
 "nbformat_minor": 5
}
