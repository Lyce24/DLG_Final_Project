{
 "cells": [
  {
   "cell_type": "code",
   "execution_count": null,
   "metadata": {},
   "outputs": [],
   "source": [
    "# idea: GNN + Transformer\n",
    "# 1. from data_df, create embedding for each gene based on their co-occurrence/other relationships\n",
    "# 2. use GNN to learn the gene embeddings\n",
    "# 3. feed the gnn embeddings into a transformer model as the positional embeddings\n",
    "# 4. use the transformer model to predict the prognosis of the patients"
   ]
  }
 ],
 "metadata": {
  "language_info": {
   "name": "python"
  }
 },
 "nbformat": 4,
 "nbformat_minor": 2
}
